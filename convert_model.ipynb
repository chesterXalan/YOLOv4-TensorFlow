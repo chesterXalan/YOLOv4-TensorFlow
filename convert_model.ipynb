{
 "cells": [
  {
   "cell_type": "code",
   "execution_count": 1,
   "metadata": {},
   "outputs": [],
   "source": [
    "import tensorflow as tf\n",
    "from core.yolov4 import YOLOv4, decode, filter_boxes\n",
    "import core.utils as utils\n",
    "import cv2\n",
    "import numpy as np"
   ]
  },
  {
   "cell_type": "code",
   "execution_count": 2,
   "metadata": {},
   "outputs": [],
   "source": [
    "weights = 'models/yolov4-default/yolov4.weights' #path to weights file\n",
    "anchors = 'models/yolov4-default/anchors.txt'\n",
    "classes = 'models/yolov4-default/classes.txt'\n",
    "output1 = './checkpoints/yolov4.h5' #path to output\n",
    "output2 = './checkpoints/yolov4' #path to output\n",
    "\n",
    "input_size = 416 #define input size of export model\n",
    "score_thres = 0.2 #define score threshold'"
   ]
  },
  {
   "cell_type": "code",
   "execution_count": 3,
   "metadata": {},
   "outputs": [],
   "source": [
    "ANCHORS, NUM_CLASS = utils.load_config(anchors, classes)\n",
    "\n",
    "input_layer = tf.keras.layers.Input([input_size, input_size, 3])\n",
    "feature_maps = YOLOv4(input_layer, NUM_CLASS)\n",
    "bbox_tensors = []\n",
    "prob_tensors = []\n",
    "\n",
    "for i, fm in enumerate(feature_maps):\n",
    "    if i == 0:\n",
    "        output_tensors = decode(fm, input_size // 8, ANCHORS, NUM_CLASS, i)\n",
    "    elif i == 1:\n",
    "        output_tensors = decode(fm, input_size // 16, ANCHORS, NUM_CLASS, i)\n",
    "    else:\n",
    "        output_tensors = decode(fm, input_size // 32, ANCHORS, NUM_CLASS, i)\n",
    "    bbox_tensors.append(output_tensors[0])\n",
    "    prob_tensors.append(output_tensors[1])\n",
    "pred_bbox = tf.concat(bbox_tensors, axis=1)\n",
    "pred_prob = tf.concat(prob_tensors, axis=1)\n",
    "\n",
    "boxes, pred_conf = filter_boxes(pred_bbox, pred_prob, score_threshold=score_thres, input_shape=tf.constant([input_size, input_size]))\n",
    "pred = tf.concat([boxes, pred_conf], axis=-1)\n",
    "\n",
    "model = tf.keras.Model(input_layer, pred)\n",
    "utils.load_weights(model, weights)\n",
    "\n",
    "#model.summary()\n",
    "#model.save(output2)"
   ]
  },
  {
   "cell_type": "code",
   "execution_count": 8,
   "metadata": {},
   "outputs": [
    {
     "name": "stdout",
     "output_type": "stream",
     "text": [
      "1/1 [==============================] - 0s 34ms/step\n",
      "[]\n"
     ]
    }
   ],
   "source": [
    "\n",
    "original_image = cv2.imread('data/car.jpg')\n",
    "original_image = cv2.cvtColor(original_image, cv2.COLOR_BGR2RGB)\n",
    "\n",
    "image_data = cv2.resize(original_image, (input_size, input_size))\n",
    "image_data = image_data / 255.\n",
    "\n",
    "image_data = np.array([image_data]).astype(np.float32)\n",
    "\n",
    "result = model.predict(image_data)\n",
    "print(result)"
   ]
  },
  {
   "cell_type": "code",
   "execution_count": 5,
   "metadata": {},
   "outputs": [
    {
     "data": {
      "text/plain": [
       "(1, 32, 84)"
      ]
     },
     "execution_count": 5,
     "metadata": {},
     "output_type": "execute_result"
    }
   ],
   "source": [
    "result.shape"
   ]
  },
  {
   "cell_type": "code",
   "execution_count": null,
   "metadata": {},
   "outputs": [],
   "source": []
  }
 ],
 "metadata": {
  "kernelspec": {
   "display_name": "Python 3.9.12 ('tensorflow')",
   "language": "python",
   "name": "python3"
  },
  "language_info": {
   "codemirror_mode": {
    "name": "ipython",
    "version": 3
   },
   "file_extension": ".py",
   "mimetype": "text/x-python",
   "name": "python",
   "nbconvert_exporter": "python",
   "pygments_lexer": "ipython3",
   "version": "3.9.12"
  },
  "vscode": {
   "interpreter": {
    "hash": "1c7f24cc11f040a5450439addbf53847cc02767a77e59162e28b9055931e82da"
   }
  }
 },
 "nbformat": 4,
 "nbformat_minor": 2
}
